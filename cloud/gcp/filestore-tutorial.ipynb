{
 "cells": [
  {
   "cell_type": "markdown",
   "id": "c1708f39",
   "metadata": {},
   "source": [
    "# Google Cloud Filestore: Managed File Storage Tutorial\n",
    "\n",
    "This notebook demonstrates how to set up and use Google Cloud Filestore, a fully managed file storage service for applications running on Compute Engine VMs or Google Kubernetes Engine clusters. Cloud Filestore provides a simple, native experience for spinning up managed NFS file servers."
   ]
  },
  {
   "cell_type": "markdown",
   "id": "b8dd13b0",
   "metadata": {},
   "source": [
    "## Set Up Google Cloud SDK\n",
    "\n",
    "First, we'll ensure the Google Cloud SDK is properly installed and configured. The SDK allows us to interact with Google Cloud services from the command line."
   ]
  },
  {
   "cell_type": "code",
   "execution_count": null,
   "id": "038b73bf",
   "metadata": {},
   "outputs": [],
   "source": [
    "# Check if the Google Cloud SDK is installed\n",
    "!gcloud --version"
   ]
  }
 ],
 "metadata": {
  "language_info": {
   "name": "python"
  }
 },
 "nbformat": 4,
 "nbformat_minor": 5
}
